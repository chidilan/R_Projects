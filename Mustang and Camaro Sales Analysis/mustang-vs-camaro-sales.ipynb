{
 "cells": [
  {
   "cell_type": "markdown",
   "id": "3a27321c",
   "metadata": {
    "_execution_state": "idle",
    "_uuid": "051d70d956493feee0c6d64651c6a088724dca2a",
    "papermill": {
     "duration": 0.004452,
     "end_time": "2023-03-04T08:57:36.605315",
     "exception": false,
     "start_time": "2023-03-04T08:57:36.600863",
     "status": "completed"
    },
    "tags": []
   },
   "source": [
    "---\n",
    "title: \"Pony Car Showdown: Mustang vs. Camaro Sales\"\n",
    "author: \"Thomas J. Gette\"\n",
    "date: \"2023-02-20\"\n",
    "output: html_document\n",
    "---\n",
    "\n",
    "## Introduction\n",
    "The battle between the Mustang and Camaro is an American pastime. The Ford Mustang galloped onto the scene in the famous year of 1964 1/2. This new \"pony car\" was a wild success, and so Chevrolet introduced the Camaro in 1967 as a way to compete in the marketplace. \n",
    "\n",
    "## Purpose\n",
    "This is a hobbiest journey into the historical sales data. This study will initially focus on consolidated yearly sales figures for the United States (all body styles combined). As more data is obtained, this will expand to include a breakdown of body type, engine type, editions, etc. This notebook aslo serves to make the data available in a manner useful for analysis. And this is also an homage to a dear friend and fellow 'Stang enthusiast.\n",
    "\n",
    "## Data Mining and Cleaning Process\n",
    "[Click here for full notes](#)\n",
    "Data for this was difficult to come by. There are multiple websites that have sales data listed, with discrepencies in them. I have put a request with Ford for more reliable data, but I defaulted to Wikipedia for the initial data because it is public domain, and has the citations to the source of the data, unlike with the websites that don't cite any sources.\n",
    "[Mustang Wikipedia](https://en.wikipedia.org/wiki/Ford_Mustang#Sales) | [Camaro Wikipedia](https://en.wikipedia.org/wiki/Chevrolet_Camaro#Sales)\n",
    "Other sites: [Car and Driver](https://www.caranddriver.com/news/a15352949/warning-graphic-content-50-years-of-camaro-vs-mustang-sales-numbers-in-living-color/), [Mustang Specs](https://www.mustangspecs.com/mustang-sales-numbers-by-year/), [Car Figures](https://carfigures.com/us-market-brand/ford/mustang), [Carsalesbase](https://carsalesbase.com/us-ford-mustang/), [CJ Pony Parts](https://www.cjponyparts.com/resources/mustang-sales-throughout-years), \n",
    "\n",
    "## Link to Visual Analysis Presented in Google Slides\n",
    "\n",
    "## Link to Full Notes for Analysis Process\n",
    "\n",
    "\n",
    "**Here begins the R code for handling the data:**\n",
    "\n",
    "## Load Libraries, Set Directory"
   ]
  },
  {
   "cell_type": "code",
   "execution_count": 1,
   "id": "fd801c60",
   "metadata": {
    "execution": {
     "iopub.execute_input": "2023-03-04T08:57:36.616110Z",
     "iopub.status.busy": "2023-03-04T08:57:36.613926Z",
     "iopub.status.idle": "2023-03-04T08:57:38.174886Z",
     "shell.execute_reply": "2023-03-04T08:57:38.172909Z"
    },
    "papermill": {
     "duration": 1.568668,
     "end_time": "2023-03-04T08:57:38.177615",
     "exception": false,
     "start_time": "2023-03-04T08:57:36.608947",
     "status": "completed"
    },
    "tags": []
   },
   "outputs": [
    {
     "name": "stderr",
     "output_type": "stream",
     "text": [
      "── \u001b[1mAttaching packages\u001b[22m ─────────────────────────────────────── tidyverse 1.3.2 ──\n",
      "\u001b[32m✔\u001b[39m \u001b[34mggplot2\u001b[39m 3.4.0      \u001b[32m✔\u001b[39m \u001b[34mpurrr  \u001b[39m 1.0.1 \n",
      "\u001b[32m✔\u001b[39m \u001b[34mtibble \u001b[39m 3.1.8      \u001b[32m✔\u001b[39m \u001b[34mdplyr  \u001b[39m 1.0.10\n",
      "\u001b[32m✔\u001b[39m \u001b[34mtidyr  \u001b[39m 1.2.1      \u001b[32m✔\u001b[39m \u001b[34mstringr\u001b[39m 1.5.0 \n",
      "\u001b[32m✔\u001b[39m \u001b[34mreadr  \u001b[39m 2.1.3      \u001b[32m✔\u001b[39m \u001b[34mforcats\u001b[39m 0.5.2 \n",
      "── \u001b[1mConflicts\u001b[22m ────────────────────────────────────────── tidyverse_conflicts() ──\n",
      "\u001b[31m✖\u001b[39m \u001b[34mdplyr\u001b[39m::\u001b[32mfilter()\u001b[39m masks \u001b[34mstats\u001b[39m::filter()\n",
      "\u001b[31m✖\u001b[39m \u001b[34mdplyr\u001b[39m::\u001b[32mlag()\u001b[39m    masks \u001b[34mstats\u001b[39m::lag()\n",
      "Loading required package: timechange\n",
      "\n",
      "\n",
      "Attaching package: ‘lubridate’\n",
      "\n",
      "\n",
      "The following objects are masked from ‘package:base’:\n",
      "\n",
      "    date, intersect, setdiff, union\n",
      "\n",
      "\n"
     ]
    }
   ],
   "source": [
    "library(tidyverse)  # for wrangling data\n",
    "library(lubridate)  # to work with datetime values\n",
    "library(ggplot2)  # for data viz\n",
    "library(dplyr)  #for using write_csv(), which is faster than write.csv()\n",
    "setwd(\"/kaggle/input/mustang-camaro-sales\")"
   ]
  },
  {
   "cell_type": "markdown",
   "id": "a7d6c3b2",
   "metadata": {
    "_execution_state": "idle",
    "_uuid": "051d70d956493feee0c6d64651c6a088724dca2a",
    "papermill": {
     "duration": 0.004114,
     "end_time": "2023-03-04T08:57:38.185941",
     "exception": false,
     "start_time": "2023-03-04T08:57:38.181827",
     "status": "completed"
    },
    "tags": []
   },
   "source": [
    "## Load Datasets from CSV\n",
    "Data from first production year to 2022"
   ]
  },
  {
   "cell_type": "code",
   "execution_count": 2,
   "id": "da65b027",
   "metadata": {
    "execution": {
     "iopub.execute_input": "2023-03-04T08:57:38.225204Z",
     "iopub.status.busy": "2023-03-04T08:57:38.195310Z",
     "iopub.status.idle": "2023-03-04T08:57:38.599123Z",
     "shell.execute_reply": "2023-03-04T08:57:38.597343Z"
    },
    "papermill": {
     "duration": 0.412407,
     "end_time": "2023-03-04T08:57:38.602207",
     "exception": false,
     "start_time": "2023-03-04T08:57:38.189800",
     "status": "completed"
    },
    "tags": []
   },
   "outputs": [
    {
     "name": "stderr",
     "output_type": "stream",
     "text": [
      "\u001b[1mRows: \u001b[22m\u001b[34m59\u001b[39m \u001b[1mColumns: \u001b[22m\u001b[34m5\u001b[39m\n",
      "\u001b[36m──\u001b[39m \u001b[1mColumn specification\u001b[22m \u001b[36m────────────────────────────────────────────────────────\u001b[39m\n",
      "\u001b[1mDelimiter:\u001b[22m \",\"\n",
      "\u001b[31mchr\u001b[39m (2): make, model\n",
      "\u001b[32mdbl\u001b[39m (3): year, sales, generation\n",
      "\n",
      "\u001b[36mℹ\u001b[39m Use `spec()` to retrieve the full column specification for this data.\n",
      "\u001b[36mℹ\u001b[39m Specify the column types or set `show_col_types = FALSE` to quiet this message.\n",
      "\u001b[1mRows: \u001b[22m\u001b[34m56\u001b[39m \u001b[1mColumns: \u001b[22m\u001b[34m5\u001b[39m\n",
      "\u001b[36m──\u001b[39m \u001b[1mColumn specification\u001b[22m \u001b[36m────────────────────────────────────────────────────────\u001b[39m\n",
      "\u001b[1mDelimiter:\u001b[22m \",\"\n",
      "\u001b[31mchr\u001b[39m (2): make, model\n",
      "\u001b[32mdbl\u001b[39m (3): year, sales, generation\n",
      "\n",
      "\u001b[36mℹ\u001b[39m Use `spec()` to retrieve the full column specification for this data.\n",
      "\u001b[36mℹ\u001b[39m Specify the column types or set `show_col_types = FALSE` to quiet this message.\n"
     ]
    }
   ],
   "source": [
    "mustang_sales <- read_csv(\"mustang_sales.csv\")\n",
    "camaro_sales <- read_csv(\"camaro_sales.csv\")"
   ]
  },
  {
   "cell_type": "markdown",
   "id": "1817ad3c",
   "metadata": {
    "_execution_state": "idle",
    "_uuid": "051d70d956493feee0c6d64651c6a088724dca2a",
    "papermill": {
     "duration": 0.004062,
     "end_time": "2023-03-04T08:57:38.610795",
     "exception": false,
     "start_time": "2023-03-04T08:57:38.606733",
     "status": "completed"
    },
    "tags": []
   },
   "source": [
    "## Combine All Datasets into One Long Dataset"
   ]
  },
  {
   "cell_type": "code",
   "execution_count": 3,
   "id": "f5cac940",
   "metadata": {
    "execution": {
     "iopub.execute_input": "2023-03-04T08:57:38.622202Z",
     "iopub.status.busy": "2023-03-04T08:57:38.620697Z",
     "iopub.status.idle": "2023-03-04T08:57:38.666500Z",
     "shell.execute_reply": "2023-03-04T08:57:38.635711Z"
    },
    "papermill": {
     "duration": 0.055671,
     "end_time": "2023-03-04T08:57:38.670480",
     "exception": false,
     "start_time": "2023-03-04T08:57:38.614809",
     "status": "completed"
    },
    "tags": []
   },
   "outputs": [],
   "source": [
    "all_sales <- bind_rows(mustang_sales, camaro_sales)"
   ]
  },
  {
   "cell_type": "markdown",
   "id": "5d5a0230",
   "metadata": {
    "_execution_state": "idle",
    "_uuid": "051d70d956493feee0c6d64651c6a088724dca2a",
    "papermill": {
     "duration": 0.004217,
     "end_time": "2023-03-04T08:57:38.678757",
     "exception": false,
     "start_time": "2023-03-04T08:57:38.674540",
     "status": "completed"
    },
    "tags": []
   },
   "source": [
    "## Inspect New Table"
   ]
  },
  {
   "cell_type": "code",
   "execution_count": 4,
   "id": "7344fc0a",
   "metadata": {
    "execution": {
     "iopub.execute_input": "2023-03-04T08:57:38.690538Z",
     "iopub.status.busy": "2023-03-04T08:57:38.688943Z",
     "iopub.status.idle": "2023-03-04T08:57:38.772445Z",
     "shell.execute_reply": "2023-03-04T08:57:38.770108Z"
    },
    "papermill": {
     "duration": 0.09287,
     "end_time": "2023-03-04T08:57:38.775914",
     "exception": false,
     "start_time": "2023-03-04T08:57:38.683044",
     "status": "completed"
    },
    "tags": []
   },
   "outputs": [
    {
     "data": {
      "text/html": [
       "<style>\n",
       ".list-inline {list-style: none; margin:0; padding: 0}\n",
       ".list-inline>li {display: inline-block}\n",
       ".list-inline>li:not(:last-child)::after {content: \"\\00b7\"; padding: 0 .5ex}\n",
       "</style>\n",
       "<ol class=list-inline><li>'year'</li><li>'sales'</li><li>'generation'</li><li>'make'</li><li>'model'</li></ol>\n"
      ],
      "text/latex": [
       "\\begin{enumerate*}\n",
       "\\item 'year'\n",
       "\\item 'sales'\n",
       "\\item 'generation'\n",
       "\\item 'make'\n",
       "\\item 'model'\n",
       "\\end{enumerate*}\n"
      ],
      "text/markdown": [
       "1. 'year'\n",
       "2. 'sales'\n",
       "3. 'generation'\n",
       "4. 'make'\n",
       "5. 'model'\n",
       "\n",
       "\n"
      ],
      "text/plain": [
       "[1] \"year\"       \"sales\"      \"generation\" \"make\"       \"model\"     "
      ]
     },
     "metadata": {},
     "output_type": "display_data"
    },
    {
     "data": {
      "text/html": [
       "115"
      ],
      "text/latex": [
       "115"
      ],
      "text/markdown": [
       "115"
      ],
      "text/plain": [
       "[1] 115"
      ]
     },
     "metadata": {},
     "output_type": "display_data"
    },
    {
     "data": {
      "text/html": [
       "<style>\n",
       ".list-inline {list-style: none; margin:0; padding: 0}\n",
       ".list-inline>li {display: inline-block}\n",
       ".list-inline>li:not(:last-child)::after {content: \"\\00b7\"; padding: 0 .5ex}\n",
       "</style>\n",
       "<ol class=list-inline><li>115</li><li>5</li></ol>\n"
      ],
      "text/latex": [
       "\\begin{enumerate*}\n",
       "\\item 115\n",
       "\\item 5\n",
       "\\end{enumerate*}\n"
      ],
      "text/markdown": [
       "1. 115\n",
       "2. 5\n",
       "\n",
       "\n"
      ],
      "text/plain": [
       "[1] 115   5"
      ]
     },
     "metadata": {},
     "output_type": "display_data"
    },
    {
     "data": {
      "text/html": [
       "<table class=\"dataframe\">\n",
       "<caption>A tibble: 6 × 5</caption>\n",
       "<thead>\n",
       "\t<tr><th scope=col>year</th><th scope=col>sales</th><th scope=col>generation</th><th scope=col>make</th><th scope=col>model</th></tr>\n",
       "\t<tr><th scope=col>&lt;dbl&gt;</th><th scope=col>&lt;dbl&gt;</th><th scope=col>&lt;dbl&gt;</th><th scope=col>&lt;chr&gt;</th><th scope=col>&lt;chr&gt;</th></tr>\n",
       "</thead>\n",
       "<tbody>\n",
       "\t<tr><td>1964</td><td>121538</td><td>1</td><td>Ford</td><td>Mustang</td></tr>\n",
       "\t<tr><td>1965</td><td>559451</td><td>1</td><td>Ford</td><td>Mustang</td></tr>\n",
       "\t<tr><td>1966</td><td>607568</td><td>1</td><td>Ford</td><td>Mustang</td></tr>\n",
       "\t<tr><td>1967</td><td>472121</td><td>1</td><td>Ford</td><td>Mustang</td></tr>\n",
       "\t<tr><td>1968</td><td>317404</td><td>1</td><td>Ford</td><td>Mustang</td></tr>\n",
       "\t<tr><td>1969</td><td>299824</td><td>1</td><td>Ford</td><td>Mustang</td></tr>\n",
       "</tbody>\n",
       "</table>\n"
      ],
      "text/latex": [
       "A tibble: 6 × 5\n",
       "\\begin{tabular}{lllll}\n",
       " year & sales & generation & make & model\\\\\n",
       " <dbl> & <dbl> & <dbl> & <chr> & <chr>\\\\\n",
       "\\hline\n",
       "\t 1964 & 121538 & 1 & Ford & Mustang\\\\\n",
       "\t 1965 & 559451 & 1 & Ford & Mustang\\\\\n",
       "\t 1966 & 607568 & 1 & Ford & Mustang\\\\\n",
       "\t 1967 & 472121 & 1 & Ford & Mustang\\\\\n",
       "\t 1968 & 317404 & 1 & Ford & Mustang\\\\\n",
       "\t 1969 & 299824 & 1 & Ford & Mustang\\\\\n",
       "\\end{tabular}\n"
      ],
      "text/markdown": [
       "\n",
       "A tibble: 6 × 5\n",
       "\n",
       "| year &lt;dbl&gt; | sales &lt;dbl&gt; | generation &lt;dbl&gt; | make &lt;chr&gt; | model &lt;chr&gt; |\n",
       "|---|---|---|---|---|\n",
       "| 1964 | 121538 | 1 | Ford | Mustang |\n",
       "| 1965 | 559451 | 1 | Ford | Mustang |\n",
       "| 1966 | 607568 | 1 | Ford | Mustang |\n",
       "| 1967 | 472121 | 1 | Ford | Mustang |\n",
       "| 1968 | 317404 | 1 | Ford | Mustang |\n",
       "| 1969 | 299824 | 1 | Ford | Mustang |\n",
       "\n"
      ],
      "text/plain": [
       "  year sales  generation make model  \n",
       "1 1964 121538 1          Ford Mustang\n",
       "2 1965 559451 1          Ford Mustang\n",
       "3 1966 607568 1          Ford Mustang\n",
       "4 1967 472121 1          Ford Mustang\n",
       "5 1968 317404 1          Ford Mustang\n",
       "6 1969 299824 1          Ford Mustang"
      ]
     },
     "metadata": {},
     "output_type": "display_data"
    },
    {
     "name": "stdout",
     "output_type": "stream",
     "text": [
      "spc_tbl_ [115 × 5] (S3: spec_tbl_df/tbl_df/tbl/data.frame)\n",
      " $ year      : num [1:115] 1964 1965 1966 1967 1968 ...\n",
      " $ sales     : num [1:115] 121538 559451 607568 472121 317404 ...\n",
      " $ generation: num [1:115] 1 1 1 1 1 1 1 1 1 1 ...\n",
      " $ make      : chr [1:115] \"Ford\" \"Ford\" \"Ford\" \"Ford\" ...\n",
      " $ model     : chr [1:115] \"Mustang\" \"Mustang\" \"Mustang\" \"Mustang\" ...\n",
      " - attr(*, \"spec\")=\n",
      "  .. cols(\n",
      "  ..   year = \u001b[32mcol_double()\u001b[39m,\n",
      "  ..   sales = \u001b[32mcol_double()\u001b[39m,\n",
      "  ..   generation = \u001b[32mcol_double()\u001b[39m,\n",
      "  ..   make = \u001b[31mcol_character()\u001b[39m,\n",
      "  ..   model = \u001b[31mcol_character()\u001b[39m\n",
      "  .. )\n",
      " - attr(*, \"problems\")=<externalptr> \n"
     ]
    },
    {
     "data": {
      "text/plain": [
       "      year          sales          generation        make          \n",
       " Min.   :1964   Min.   :     0   Min.   :1.000   Length:115        \n",
       " 1st Qu.:1980   1st Qu.: 71464   1st Qu.:2.000   Class :character  \n",
       " Median :1994   Median :122349   Median :3.000   Mode  :character  \n",
       " Mean   :1994   Mean   :134620   Mean   :3.509                     \n",
       " 3rd Qu.:2008   3rd Qu.:169485   3rd Qu.:5.000                     \n",
       " Max.   :2022   Max.   :607568   Max.   :6.000                     \n",
       "                                 NA's   :7                         \n",
       "    model          \n",
       " Length:115        \n",
       " Class :character  \n",
       " Mode  :character  \n",
       "                   \n",
       "                   \n",
       "                   \n",
       "                   "
      ]
     },
     "metadata": {},
     "output_type": "display_data"
    }
   ],
   "source": [
    "colnames(all_sales)  #List of column names\n",
    "nrow(all_sales)  #How many rows are in data frame?\n",
    "dim(all_sales)  #Dimensions of the data frame?\n",
    "head(all_sales)  #See the first 6 rows of data frame.  Also tail(all_trips)\n",
    "str(all_sales)  #See list of columns and data types (numeric, character, etc)\n",
    "summary(all_sales)  #Statistical summary of data."
   ]
  },
  {
   "cell_type": "markdown",
   "id": "29bb220b",
   "metadata": {
    "_execution_state": "idle",
    "_uuid": "051d70d956493feee0c6d64651c6a088724dca2a",
    "papermill": {
     "duration": 0.005405,
     "end_time": "2023-03-04T08:57:38.786449",
     "exception": false,
     "start_time": "2023-03-04T08:57:38.781044",
     "status": "completed"
    },
    "tags": []
   },
   "source": [
    "## Check Number of Obsvervances in Model"
   ]
  },
  {
   "cell_type": "code",
   "execution_count": 5,
   "id": "acf7e730",
   "metadata": {
    "execution": {
     "iopub.execute_input": "2023-03-04T08:57:38.800024Z",
     "iopub.status.busy": "2023-03-04T08:57:38.798451Z",
     "iopub.status.idle": "2023-03-04T08:57:38.818482Z",
     "shell.execute_reply": "2023-03-04T08:57:38.816356Z"
    },
    "papermill": {
     "duration": 0.029972,
     "end_time": "2023-03-04T08:57:38.821575",
     "exception": false,
     "start_time": "2023-03-04T08:57:38.791603",
     "status": "completed"
    },
    "tags": []
   },
   "outputs": [
    {
     "data": {
      "text/plain": [
       "\n",
       " Camaro Mustang \n",
       "     56      59 "
      ]
     },
     "metadata": {},
     "output_type": "display_data"
    }
   ],
   "source": [
    "table(all_sales$model)"
   ]
  },
  {
   "cell_type": "markdown",
   "id": "0ffb0323",
   "metadata": {
    "_execution_state": "idle",
    "_uuid": "051d70d956493feee0c6d64651c6a088724dca2a",
    "papermill": {
     "duration": 0.005221,
     "end_time": "2023-03-04T08:57:38.831752",
     "exception": false,
     "start_time": "2023-03-04T08:57:38.826531",
     "status": "completed"
    },
    "tags": []
   },
   "source": [
    "## Inpsect Column Structure"
   ]
  },
  {
   "cell_type": "code",
   "execution_count": 6,
   "id": "c7c52996",
   "metadata": {
    "execution": {
     "iopub.execute_input": "2023-03-04T08:57:38.845444Z",
     "iopub.status.busy": "2023-03-04T08:57:38.843772Z",
     "iopub.status.idle": "2023-03-04T08:57:38.869868Z",
     "shell.execute_reply": "2023-03-04T08:57:38.867552Z"
    },
    "papermill": {
     "duration": 0.036099,
     "end_time": "2023-03-04T08:57:38.872955",
     "exception": false,
     "start_time": "2023-03-04T08:57:38.836856",
     "status": "completed"
    },
    "tags": []
   },
   "outputs": [
    {
     "name": "stdout",
     "output_type": "stream",
     "text": [
      "spc_tbl_ [115 × 5] (S3: spec_tbl_df/tbl_df/tbl/data.frame)\n",
      " $ year      : num [1:115] 1964 1965 1966 1967 1968 ...\n",
      " $ sales     : num [1:115] 121538 559451 607568 472121 317404 ...\n",
      " $ generation: num [1:115] 1 1 1 1 1 1 1 1 1 1 ...\n",
      " $ make      : chr [1:115] \"Ford\" \"Ford\" \"Ford\" \"Ford\" ...\n",
      " $ model     : chr [1:115] \"Mustang\" \"Mustang\" \"Mustang\" \"Mustang\" ...\n",
      " - attr(*, \"spec\")=\n",
      "  .. cols(\n",
      "  ..   year = \u001b[32mcol_double()\u001b[39m,\n",
      "  ..   sales = \u001b[32mcol_double()\u001b[39m,\n",
      "  ..   generation = \u001b[32mcol_double()\u001b[39m,\n",
      "  ..   make = \u001b[31mcol_character()\u001b[39m,\n",
      "  ..   model = \u001b[31mcol_character()\u001b[39m\n",
      "  .. )\n",
      " - attr(*, \"problems\")=<externalptr> \n"
     ]
    }
   ],
   "source": [
    "str(all_sales)"
   ]
  },
  {
   "cell_type": "markdown",
   "id": "6505ed42",
   "metadata": {
    "_execution_state": "idle",
    "_uuid": "051d70d956493feee0c6d64651c6a088724dca2a",
    "papermill": {
     "duration": 0.005049,
     "end_time": "2023-03-04T08:57:38.883032",
     "exception": false,
     "start_time": "2023-03-04T08:57:38.877983",
     "status": "completed"
    },
    "tags": []
   },
   "source": [
    "## Write Dataset to CSV (disabled)"
   ]
  },
  {
   "cell_type": "code",
   "execution_count": 7,
   "id": "da6cf1fb",
   "metadata": {
    "execution": {
     "iopub.execute_input": "2023-03-04T08:57:38.896414Z",
     "iopub.status.busy": "2023-03-04T08:57:38.894794Z",
     "iopub.status.idle": "2023-03-04T08:57:38.907993Z",
     "shell.execute_reply": "2023-03-04T08:57:38.906004Z"
    },
    "papermill": {
     "duration": 0.02285,
     "end_time": "2023-03-04T08:57:38.910873",
     "exception": false,
     "start_time": "2023-03-04T08:57:38.888023",
     "status": "completed"
    },
    "tags": []
   },
   "outputs": [],
   "source": [
    "# write_csv(all_sales, \"mustang_camaro_sales.csv\")"
   ]
  }
 ],
 "metadata": {
  "kernelspec": {
   "display_name": "R",
   "language": "R",
   "name": "ir"
  },
  "language_info": {
   "codemirror_mode": "r",
   "file_extension": ".r",
   "mimetype": "text/x-r-source",
   "name": "R",
   "pygments_lexer": "r",
   "version": "4.0.5"
  },
  "papermill": {
   "default_parameters": {},
   "duration": 6.171874,
   "end_time": "2023-03-04T08:57:39.038083",
   "environment_variables": {},
   "exception": null,
   "input_path": "__notebook__.ipynb",
   "output_path": "__notebook__.ipynb",
   "parameters": {},
   "start_time": "2023-03-04T08:57:32.866209",
   "version": "2.4.0"
  }
 },
 "nbformat": 4,
 "nbformat_minor": 5
}
